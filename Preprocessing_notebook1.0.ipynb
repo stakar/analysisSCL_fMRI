{
 "cells": [
  {
   "cell_type": "code",
   "execution_count": 1,
   "metadata": {},
   "outputs": [],
   "source": [
    "\n",
    "import mne\n",
    "import matplotlib.pyplot as plt\n",
    "import numpy as np\n",
    "from scipy.signal import medfilt,resample, butter,filtfilt\n",
    "from pandas import DataFrame\n",
    "\n",
    "FREQ=100 #Frequency after resampling (source freq: 5kHz, resampling 50x lower to 100Hz)\n",
    "\n",
    "def get_stimlist(filename):\n",
    "    \"\"\"Opens file (text, name of file) in vmrk format, reads events and return list\n",
    "    with tuples [(name_of_stimulus,stimulus_data_point)]\"\"\"\n",
    "    with open(filename,'r') as file:\n",
    "        data = file.read()\n",
    "    stimlist=[n for n in data.split('\\n') if 'Stimulus' in n]\n",
    "    return [(n.split(',')[1],int(n.split(',')[2])) for n in stimlist]\n",
    "\n",
    "def get_stimulus_array(stimlist):\n",
    "    \"\"\"Export array of stimuli data poitns from stimlist\"\"\"\n",
    "    return np.array(stimlist)[:,1].astype(int)\n",
    "\n",
    "def get_stimulus_names(stimlist):\n",
    "    \"\"\"Export array of stimuli names from stimlist\"\"\"\n",
    "    return np.array(stimlist)[:,0]\n",
    "\n",
    "def signal_alignment_correction(stim_array,correction_value):\n",
    "    \"\"\"\n",
    "    Correct datapoints array of stimulus\n",
    "    \"\"\"\n",
    "    return stim_array - correction_value\n",
    "\n",
    "def resample_events(stim_array,resample_coef=50):\n",
    "    \"\"\"Resample events using given coefficient, accepts \n",
    "    returns numpy array with rounded resampled stimulus.\"\"\"\n",
    "    return np.round(stim_array/resample_coef).astype(int)\n",
    "\n",
    "def butter_lowpass_filter(data, cutoff=2, fs=100, order=2):\n",
    "    \"\"\"Accepts array with signal (data). Lowpass Butter filter, filters given signal.\"\"\"\n",
    "    nyq = 0.5 * fs\n",
    "    normal_cutoff = cutoff / nyq\n",
    "    # Get the filter coefficients \n",
    "    b, a = butter(order, normal_cutoff, btype='low', analog=False)\n",
    "    y = filtfilt(b, a, data)\n",
    "    return y\n"
   ]
  },
  {
   "cell_type": "markdown",
   "metadata": {},
   "source": [
    "Plan for original analysis:The signal was resampled into 1000Hz, then smoothed with median (100 samples), and filtered with a high-passed 1Hz filter. We calculated normalized change in SCL with equation 100✕(SCLStim-SCLbaseline/SCLbaseline), where SCLStim is the mean signal value during the stimulus and SCLbaseline is an SCL reaction during the baseline preceding the first part in each scenario (Sugimine et al. 2020)."
   ]
  },
  {
   "cell_type": "code",
   "execution_count": 116,
   "metadata": {},
   "outputs": [
    {
     "name": "stdout",
     "output_type": "stream",
     "text": [
      "Extracting parameters from analiza_treatment/JM22a_B252_tp5.vhdr...\n",
      "Setting channel info structure...\n"
     ]
    }
   ],
   "source": [
    "data = mne.io.read_raw_brainvision('analiza_treatment/JM22a_B252_tp5.vhdr')\n",
    "data = data.get_data().flatten()\n",
    "FREQ=100 #Frequency after resampling (source freq: 5kHz, resampling 50x lower to 100Hz)\n",
    "stimlist = get_stimlist('analiza_treatment/JM22a_B252_tp5.vmrk')\n",
    "where = stimlist[0][1]-15000\n",
    "data = data[where:]\n",
    "data = resample(data,round(len(data)/50))\n",
    "filtered = butter_lowpass_filter(data)\n",
    "medfiltered=medfilt(filtered)"
   ]
  },
  {
   "cell_type": "code",
   "execution_count": 117,
   "metadata": {},
   "outputs": [],
   "source": [
    "\n",
    "stimarr = get_stimulus_array(stimlist)\n",
    "aligned = signal_alignment_correction(stimarr,where)\n",
    "new_stims= resample_events(aligned,50)\n",
    "stimnames = get_stimulus_names(stimlist)"
   ]
  },
  {
   "cell_type": "code",
   "execution_count": 119,
   "metadata": {},
   "outputs": [
    {
     "data": {
      "text/plain": [
       "(8e-06, 1.4e-05)"
      ]
     },
     "execution_count": 119,
     "metadata": {},
     "output_type": "execute_result"
    },
    {
     "data": {
      "image/png": "[encoded data removed]",
      "text/plain": [
       "<Figure size 432x288 with 1 Axes>"
      ]
     },
     "metadata": {
      "needs_background": "light"
     },
     "output_type": "display_data"
    }
   ],
   "source": [
    "# #Plottting, if needed\n",
    "\n",
    "#plot resampled raw data\n",
    "plt.plot([n for n in range(0,len(data),1)],data)\n",
    "\n",
    "#plot each stimulus\n",
    "for stim in new_stims:\n",
    "    plt.axvspan(stim-500, stim+500, facecolor='r',alpha=0.5)\n",
    "\n",
    "#plot data filtered with low-pass filter\n",
    "plt.plot([n for n in range(0,len(filtered),1)],filtered)\n",
    "\n",
    "#plot data filtered with median filter\n",
    "plt.plot([n for n in range(0,len(medfiltered),1)],medfiltered)\n",
    "plt.xlim(100000,125000)\n",
    "plt.ylim(.000008,.000014)"
   ]
  },
  {
   "cell_type": "code",
   "execution_count": 109,
   "metadata": {},
   "outputs": [],
   "source": [
    "result = []\n",
    "for name,datapoint in zip(stimnames,new_stims):\n",
    "    tmp_bsle=np.mean(filtered[datapoint-(3*FREQ):datapoint])*1000000\n",
    "    tmp_mean30=np.mean(filtered[datapoint:datapoint+(30*FREQ)])*1000000\n",
    "    tmp_mean15=np.mean(filtered[datapoint:datapoint+(15*FREQ)])*1000000\n",
    "    tmp_mean12=np.mean(filtered[datapoint:datapoint+(12*FREQ)])*1000000\n",
    "    \n",
    "    tmp_bsle=np.min(filtered[datapoint-(3*FREQ):datapoint])*1000000\n",
    "    tmp_min30=np.min(filtered[datapoint:datapoint+(30*FREQ)])*1000000\n",
    "    tmp_min15=np.min(filtered[datapoint:datapoint+(15*FREQ)])*1000000\n",
    "    tmp_min12=np.min(filtered[datapoint:datapoint+(12*FREQ)])*1000000\n",
    "    \n",
    "    tmp_bsle=np.max(filtered[datapoint-(3*FREQ):datapoint])*1000000\n",
    "    tmp_max30=np.max(filtered[datapoint:datapoint+(30*FREQ)])*1000000\n",
    "    tmp_max15=np.max(filtered[datapoint:datapoint+(15*FREQ)])*1000000\n",
    "    tmp_max12=np.max(filtered[datapoint:datapoint+(12*FREQ)])*1000000\n",
    "    \n",
    "    result.append((f'{name}_baseline',tmp_bsle))\n",
    "    result.append((f'{name}_mean30',tmp_mean30))\n",
    "    result.append((f'{name}_mean15',tmp_mean15))\n",
    "    result.append((f'{name}_mean12',tmp_mean12))\n",
    "    result.append((f'{name}_min30',tmp_min30))\n",
    "    result.append((f'{name}_min15',tmp_min15))\n",
    "    result.append((f'{name}_min12',tmp_min12))\n",
    "    result.append((f'{name}_max30',tmp_max30))\n",
    "    result.append((f'{name}_max15',tmp_max15))\n",
    "    result.append((f'{name}_max12',tmp_max12))\n",
    "DataFrame(result).to_excel('output.xlsx')"
   ]
  },
  {
   "cell_type": "code",
   "execution_count": null,
   "metadata": {},
   "outputs": [],
   "source": []
  }
 ],
 "metadata": {
  "kernelspec": {
   "display_name": "Python 3",
   "language": "python",
   "name": "python3"
  },
  "language_info": {
   "codemirror_mode": {
    "name": "ipython",
    "version": 3
   },
   "file_extension": ".py",
   "mimetype": "text/x-python",
   "name": "python",
   "nbconvert_exporter": "python",
   "pygments_lexer": "ipython3",
   "version": "3.7.4"
  }
 },
 "nbformat": 4,
 "nbformat_minor": 2
}
