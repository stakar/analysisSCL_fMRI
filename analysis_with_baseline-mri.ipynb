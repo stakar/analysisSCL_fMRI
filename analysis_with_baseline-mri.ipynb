{
 "cells": [
  {
   "cell_type": "markdown",
   "metadata": {},
   "source": [
    "# Notebook with analysis of SCL data from diferent time points\n",
    "\n",
    "In this notebook I am conducting preprocessing for each file in the study, next- aggregate files into\n",
    "one spreadsheet. \n",
    "\n"
   ]
  },
  {
   "cell_type": "code",
   "execution_count": null,
   "metadata": {},
   "outputs": [],
   "source": [
    "import numpy as np \n",
    "import pandas as pd\n",
    "from analysis_tools import *\n",
    "from os import listdir\n",
    "import time\n",
    "\n",
    "ORIGINF=5000\n",
    "FREQ=100"
   ]
  },
  {
   "cell_type": "code",
   "execution_count": null,
   "metadata": {},
   "outputs": [],
   "source": [
    "#check the time, for counting time necessary for analysis.\n",
    "curr = time.time()\n",
    "\n",
    "#Get list of files from time point 1\n",
    "filelist = [n.split('.')[0] for n in listdir('../analiza_treatment/') \\\n",
    "            if ('vhdr' in n and 'tp1' in n.lower())]\n",
    "\n",
    "#preprocess each file from time point 1, if not present.\n",
    "for file in filelist:\n",
    "    try:        \n",
    "        if f\"{file}.xlsx\" not in listdir('../preprocessed_treatment/'):\n",
    "            \n",
    "            signal = get_bv_medfiltered_signal(f'../analiza_treatment/{file}.vhdr',\n",
    "                                           f'../analiza_treatment/{file}.vmrk',\n",
    "                                           f'../preprocessed_treatment/{file}')\n",
    "            calculate_save_results_bsl(signal[0],\n",
    "                       signal[2],\n",
    "                       signal[1],\n",
    "                       file,\n",
    "                       f'../preprocessed_treatment/{file}',\n",
    "                       output_aggr = 'output_TP1')\n",
    "    except Exception as e:\n",
    "        print(e)\n",
    "        print(f'Problem with {file}')\n",
    "        \n",
    "\n",
    "#Get list of files from time point 5\n",
    "filelist = [n.split('.')[0] for n in listdir('../analiza_treatment/') if \\\n",
    "            ('vhdr' in n and 'tp5' in n.lower())]\n",
    "#preprocess each file from time point 5, if not present.\n",
    "for file in filelist:\n",
    "    try:\n",
    "        if f\"{file}.xlsx\" not in listdir('../preprocessed_treatment/'):\n",
    "            signal = get_bv_medfiltered_signal(f'../analiza_treatment/{file}.vhdr',\n",
    "                                           f'../analiza_treatment/{file}.vmrk',\n",
    "                                           f'../preprocessed_treatment/{file}')\n",
    "            calculate_save_results_bsl(signal[0],\n",
    "                       signal[2],\n",
    "                       signal[1],\n",
    "                       file,\n",
    "                       f'../preprocessed_treatment/{file}',\n",
    "                       output_aggr = 'output_TP5')\n",
    "    except Exception as e:\n",
    "        print(e)\n",
    "        print(f'Problem with {file}')\n",
    "        \n",
    "        \n",
    "        \n",
    "# #check post-time, count difference and show how much time was spent.\n",
    "# curr2 = time.time()\n",
    "# diff_time = np.round(curr2-curr)\n",
    "# print(f'Job was done after {diff_time}')"
   ]
  }
 ],
 "metadata": {
  "kernelspec": {
   "display_name": "Python 3 (ipykernel)",
   "language": "python",
   "name": "python3"
  },
  "language_info": {
   "codemirror_mode": {
    "name": "ipython",
    "version": 3
   },
   "file_extension": ".py",
   "mimetype": "text/x-python",
   "name": "python",
   "nbconvert_exporter": "python",
   "pygments_lexer": "ipython3",
   "version": "3.11.5"
  }
 },
 "nbformat": 4,
 "nbformat_minor": 2
}
