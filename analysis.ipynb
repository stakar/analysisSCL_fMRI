{
 "cells": [
  {
   "cell_type": "markdown",
   "metadata": {},
   "source": [
    "# Notebook with analysis of SCL data from diferent time points\n",
    "\n",
    "### To do:\n",
    "- exception handlers (logs)\n",
    "- different time points handler (tp1/tp5/tp6/tp7)\n"
   ]
  },
  {
   "cell_type": "code",
   "execution_count": 61,
   "metadata": {},
   "outputs": [],
   "source": [
    "import numpy as np \n",
    "import pandas as pd\n",
    "from analysis_tools import *\n",
    "from os import listdir\n",
    "import time"
   ]
  },
  {
   "cell_type": "code",
   "execution_count": 62,
   "metadata": {},
   "outputs": [
    {
     "name": "stdout",
     "output_type": "stream",
     "text": [
      "opening analiza_treatment/B031_T17_Run.vhdr...\n",
      "Extracting parameters from analiza_treatment/B031_T17_Run.vhdr...\n",
      "Setting channel info structure...\n",
      "Setting up low-pass filter at 2 Hz\n",
      "\n",
      "FIR filter parameters\n",
      "---------------------\n",
      "Designing a one-pass, zero-phase, non-causal lowpass filter:\n",
      "- Windowed time-domain design (firwin) method\n",
      "- Hamming window with 0.0194 passband ripple and 53 dB stopband attenuation\n",
      "- Upper passband edge: 2.00 Hz\n",
      "- Upper transition bandwidth: 2.00 Hz (-6 dB cutoff frequency: 3.00 Hz)\n",
      "- Filter length: 165 samples (1.650 sec)\n",
      "\n"
     ]
    },
    {
     "name": "stderr",
     "output_type": "stream",
     "text": [
      "[Parallel(n_jobs=1)]: Using backend SequentialBackend with 1 concurrent workers.\n",
      "[Parallel(n_jobs=1)]: Done   1 out of   1 | elapsed:    0.0s remaining:    0.0s\n",
      "[Parallel(n_jobs=1)]: Done   1 out of   1 | elapsed:    0.0s finished\n"
     ]
    },
    {
     "name": "stdout",
     "output_type": "stream",
     "text": [
      "calculating results...\n",
      "opening analiza_treatment/JM2022a_B045_TP1.vhdr...\n",
      "Extracting parameters from analiza_treatment/JM2022a_B045_TP1.vhdr...\n",
      "Setting channel info structure...\n",
      "Setting up low-pass filter at 2 Hz\n",
      "\n",
      "FIR filter parameters\n",
      "---------------------\n",
      "Designing a one-pass, zero-phase, non-causal lowpass filter:\n",
      "- Windowed time-domain design (firwin) method\n",
      "- Hamming window with 0.0194 passband ripple and 53 dB stopband attenuation\n",
      "- Upper passband edge: 2.00 Hz\n",
      "- Upper transition bandwidth: 2.00 Hz (-6 dB cutoff frequency: 3.00 Hz)\n",
      "- Filter length: 165 samples (1.650 sec)\n",
      "\n"
     ]
    },
    {
     "name": "stderr",
     "output_type": "stream",
     "text": [
      "[Parallel(n_jobs=1)]: Using backend SequentialBackend with 1 concurrent workers.\n",
      "[Parallel(n_jobs=1)]: Done   1 out of   1 | elapsed:    0.0s remaining:    0.0s\n",
      "[Parallel(n_jobs=1)]: Done   1 out of   1 | elapsed:    0.0s finished\n"
     ]
    },
    {
     "name": "stdout",
     "output_type": "stream",
     "text": [
      "calculating results...\n",
      "opening analiza_follow up/JM222A_B252_TP6.acq...\n",
      "<Info | 7 non-empty values\n",
      " bads: []\n",
      " ch_names: EDA100C-MRI, Digital (STP Input 0), Digital (STP Input 1), ...\n",
      " chs: 9 misc\n",
      " custom_ref_applied: False\n",
      " highpass: 0.0 Hz\n",
      " lowpass: 1000.0 Hz\n",
      " meas_date: unspecified\n",
      " nchan: 9\n",
      " projs: []\n",
      " sfreq: 2000.0 Hz\n",
      ">\n",
      "Creating RawArray with float64 data, n_channels=9, n_times=4407821\n",
      "    Range : 0 ... 4407820 =      0.000 ...  2203.910 secs\n",
      "Ready.\n",
      "Setting up low-pass filter at 2 Hz\n",
      "\n",
      "FIR filter parameters\n",
      "---------------------\n",
      "Designing a one-pass, zero-phase, non-causal lowpass filter:\n",
      "- Windowed time-domain design (firwin) method\n",
      "- Hamming window with 0.0194 passband ripple and 53 dB stopband attenuation\n",
      "- Upper passband edge: 2.00 Hz\n",
      "- Upper transition bandwidth: 2.00 Hz (-6 dB cutoff frequency: 3.00 Hz)\n",
      "- Filter length: 165 samples (1.650 sec)\n",
      "\n"
     ]
    },
    {
     "name": "stderr",
     "output_type": "stream",
     "text": [
      "[Parallel(n_jobs=1)]: Using backend SequentialBackend with 1 concurrent workers.\n",
      "[Parallel(n_jobs=1)]: Done   1 out of   1 | elapsed:    0.0s remaining:    0.0s\n",
      "[Parallel(n_jobs=1)]: Done   1 out of   1 | elapsed:    0.0s finished\n"
     ]
    },
    {
     "name": "stdout",
     "output_type": "stream",
     "text": [
      "creating stimlist...\n",
      "done!\n",
      "calculating results...\n",
      "opening analiza_follow up/JM22A_B004_TP6.acq...\n",
      "<Info | 7 non-empty values\n",
      " bads: []\n",
      " ch_names: EDA100C-MRI, Digital (STP Input 0), Digital (STP Input 1), ...\n",
      " chs: 9 misc\n",
      " custom_ref_applied: False\n",
      " highpass: 0.0 Hz\n",
      " lowpass: 1000.0 Hz\n",
      " meas_date: unspecified\n",
      " nchan: 9\n",
      " projs: []\n",
      " sfreq: 2000.0 Hz\n",
      ">\n",
      "Creating RawArray with float64 data, n_channels=9, n_times=4407821\n",
      "    Range : 0 ... 4407820 =      0.000 ...  2203.910 secs\n",
      "Ready.\n",
      "Setting up low-pass filter at 2 Hz\n",
      "\n",
      "FIR filter parameters\n",
      "---------------------\n",
      "Designing a one-pass, zero-phase, non-causal lowpass filter:\n",
      "- Windowed time-domain design (firwin) method\n",
      "- Hamming window with 0.0194 passband ripple and 53 dB stopband attenuation\n",
      "- Upper passband edge: 2.00 Hz\n",
      "- Upper transition bandwidth: 2.00 Hz (-6 dB cutoff frequency: 3.00 Hz)\n",
      "- Filter length: 165 samples (1.650 sec)\n",
      "\n"
     ]
    },
    {
     "name": "stderr",
     "output_type": "stream",
     "text": [
      "[Parallel(n_jobs=1)]: Using backend SequentialBackend with 1 concurrent workers.\n",
      "[Parallel(n_jobs=1)]: Done   1 out of   1 | elapsed:    0.0s remaining:    0.0s\n",
      "[Parallel(n_jobs=1)]: Done   1 out of   1 | elapsed:    0.0s finished\n"
     ]
    },
    {
     "name": "stdout",
     "output_type": "stream",
     "text": [
      "creating stimlist...\n",
      "done!\n",
      "calculating results...\n",
      "Job was done after 186.0\n"
     ]
    }
   ],
   "source": [
    "curr = time.time()\n",
    "filelist = [n.split('.')[0] for n in listdir('analiza_treatment/') if 'vhdr' in n]\n",
    "for file in filelist[:2]:\n",
    "    try:\n",
    "        analysis(f'analiza_treatment/{file}.vhdr',f'analiza_treatment/{file}.vmrk',f'preprocessed_treatment/{file}')\n",
    "    except Exception as e:\n",
    "        print(e)\n",
    "        print(f'Problem with {file}')\n",
    "        \n",
    "        \n",
    "filelist = [n.split('.')[0] for n in listdir('analiza_follow up/') if 'acq' in n]\n",
    "\n",
    "for file in filelist[:2]:\n",
    "    try:\n",
    "        analysis_acknowledge(f'analiza_follow up/{file}.acq',f'analiza_follow up/{file}.acq',f'preprocessed_fup/{file}')\n",
    "    except Exception as e:\n",
    "        print(e)\n",
    "        print(f'Problem with {file}')\n",
    "curr2 = time.time()\n",
    "diff_time = np.round(curr2-curr)\n",
    "print(f'Job was done after {diff_time}')"
   ]
  },
  {
   "cell_type": "code",
   "execution_count": 63,
   "metadata": {},
   "outputs": [],
   "source": [
    "def create_placeholder(reference='preprocessed_fup\\JM22A_B011_TP6.xlsx', output='result.xlsx'):\n",
    "    if output not in listdir():\n",
    "        tmp = pd.read_excel(filename,index_col=0)\n",
    "        columns = tmp[0].values\n",
    "        pd.DataFrame(columns = columns).to_excel(output)\n",
    "create_placeholder()"
   ]
  },
  {
   "cell_type": "code",
   "execution_count": 64,
   "metadata": {},
   "outputs": [],
   "source": [
    "def add_result(file):\n",
    "    tmp = pd.read_excel(file,index_col=0)\n",
    "    columns = tmp[0].values\n",
    "    transposed = tmp.T.drop(0)\n",
    "    transposed.columns = columns\n",
    "    code = file.split('_')[2]\n",
    "    transposed.index = pd.Index([code])\n",
    "    print(transposed.shape)\n",
    "    return transposed"
   ]
  },
  {
   "cell_type": "code",
   "execution_count": 65,
   "metadata": {},
   "outputs": [
    {
     "name": "stdout",
     "output_type": "stream",
     "text": [
      "(1, 1060)\n",
      "(1, 1050)\n",
      "Reindexing only valid with uniquely valued Index objects\n",
      "(1, 1050)\n",
      "Reindexing only valid with uniquely valued Index objects\n",
      "(1, 1050)\n",
      "Reindexing only valid with uniquely valued Index objects\n",
      "(1, 450)\n",
      "Reindexing only valid with uniquely valued Index objects\n",
      "(1, 410)\n",
      "Reindexing only valid with uniquely valued Index objects\n",
      "(1, 1050)\n",
      "Reindexing only valid with uniquely valued Index objects\n",
      "(1, 1050)\n",
      "Reindexing only valid with uniquely valued Index objects\n",
      "(1, 450)\n",
      "Reindexing only valid with uniquely valued Index objects\n",
      "(1, 600)\n",
      "Reindexing only valid with uniquely valued Index objects\n"
     ]
    }
   ],
   "source": [
    "files = listdir('preprocessed_treatment/')\n",
    "# plc = pd.read_excel('result.xlsx', index_col=0)\n",
    "plc=pd.DataFrame()\n",
    "for file in files:\n",
    "    tmp = add_result(f'preprocessed_treatment/{file}')\n",
    "    tmp.columns = tmp.columns.sort_values()\n",
    "    try:\n",
    "        plc= plc.append(tmp)\n",
    "    except Exception as e:\n",
    "        print(e)\n",
    "    \n",
    "    "
   ]
  }
 ],
 "metadata": {
  "kernelspec": {
   "display_name": "Python 3",
   "language": "python",
   "name": "python3"
  },
  "language_info": {
   "codemirror_mode": {
    "name": "ipython",
    "version": 3
   },
   "file_extension": ".py",
   "mimetype": "text/x-python",
   "name": "python",
   "nbconvert_exporter": "python",
   "pygments_lexer": "ipython3",
   "version": "3.7.4"
  }
 },
 "nbformat": 4,
 "nbformat_minor": 2
}
