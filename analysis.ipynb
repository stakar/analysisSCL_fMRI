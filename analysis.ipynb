{
 "cells": [
  {
   "cell_type": "markdown",
   "metadata": {},
   "source": [
    "# Notebook with analysis of SCL data from diferent time points\n",
    "\n",
    "### To do:\n",
    "- exception handlers (logs)\n"
   ]
  },
  {
   "cell_type": "code",
   "execution_count": 31,
   "metadata": {},
   "outputs": [],
   "source": [
    "import numpy as np \n",
    "import pandas as pd\n",
    "from analysis_tools import *\n",
    "from os import listdir\n",
    "import time"
   ]
  },
  {
   "cell_type": "code",
   "execution_count": 46,
   "metadata": {},
   "outputs": [],
   "source": [
    "curr = time.time()\n",
    "filelist = [n.split('.')[0] for n in listdir('analiza_treatment/') if ('vhdr' in n and 'tp1' in n.lower())]\n",
    "for file in filelist[:5]:\n",
    "    try:\n",
    "        analysis(f'analiza_treatment/{file}.vhdr',f'analiza_treatment/{file}.vmrk',f'preprocessed_treatment/{file}')\n",
    "    except Exception as e:\n",
    "        print(e)\n",
    "        print(f'Problem with {file}')\n",
    "        \n",
    "\n",
    "\n",
    "filelist = [n.split('.')[0] for n in listdir('analiza_treatment/') if ('vhdr' in n and 'tp5' in n.lower())]\n",
    "for file in filelist[:5]:\n",
    "    try:\n",
    "        analysis(f'analiza_treatment/{file}.vhdr',f'analiza_treatment/{file}.vmrk',f'preprocessed_treatment/{file}')\n",
    "    except Exception as e:\n",
    "        print(e)\n",
    "        print(f'Problem with {file}')\n",
    "        \n",
    "        \n",
    "filelist = [n.split('.')[0] for n in listdir('analiza_follow up/') if ('acq' in n and 'tp6' in n.lower())]\n",
    "\n",
    "for file in filelist[:5]:\n",
    "    try:\n",
    "        analysis_acknowledge(f'analiza_follow up/{file}.acq',f'analiza_follow up/{file}.acq',f'preprocessed_fup/{file}')\n",
    "    except Exception as e:\n",
    "        print(e)\n",
    "        print(f'Problem with {file}')\n",
    "        \n",
    "        \n",
    "curr2 = time.time()\n",
    "diff_time = np.round(curr2-curr)\n",
    "print(f'Job was done after {diff_time}')"
   ]
  },
  {
   "cell_type": "code",
   "execution_count": 33,
   "metadata": {},
   "outputs": [],
   "source": [
    "def create_placeholder(reference='preprocessed_fup\\JM22A_B011_TP6.xlsx', output='result.xlsx'):\n",
    "    if output not in listdir():\n",
    "        tmp = pd.read_excel(filename,index_col=0)\n",
    "        columns = tmp[0].values\n",
    "        pd.DataFrame(columns = columns).to_excel(output)\n",
    "create_placeholder()"
   ]
  },
  {
   "cell_type": "code",
   "execution_count": 34,
   "metadata": {},
   "outputs": [],
   "source": [
    "def add_result(file,code):\n",
    "    tmp = pd.read_excel(file,index_col=0)\n",
    "    columns = tmp[0].values\n",
    "    transposed = tmp.T.drop(0)\n",
    "    transposed.columns = columns\n",
    "    transposed.index = pd.Index([code])\n",
    "    return transposed"
   ]
  },
  {
   "cell_type": "code",
   "execution_count": 35,
   "metadata": {},
   "outputs": [],
   "source": [
    "# This parser is necessary to deal with different length of columns\n",
    "# Source:\n",
    "# https://stackoverflow.com/questions/28097222/pandas-merge-two-dataframes-with-different-columns\n",
    "parser = pd.io.parsers.base_parser.ParserBase({'usecols': None})"
   ]
  },
  {
   "cell_type": "code",
   "execution_count": 36,
   "metadata": {},
   "outputs": [],
   "source": [
    "files = [n for n in listdir('preprocessed_treatment/') if 'tp1' in n.lower()]\n",
    "plc=pd.DataFrame()\n",
    "\n",
    "for file in files:\n",
    "    tmp = add_result(f'preprocessed_treatment/{file}',code=file.split('_')[1])\n",
    "    tmp.columns = tmp.columns.sort_values()\n",
    "    try:\n",
    "        for df in [tmp, plc]:\n",
    "            df.columns = parser._maybe_dedup_names(df.columns) \n",
    "        plc= plc.append(tmp)\n",
    "    except Exception as e:\n",
    "        print(e)\n",
    "    \n",
    "plc.to_excel('pretreatment_SCL_TP1.xlsx')\n",
    "\n",
    "\n",
    "files = [n for n in listdir('preprocessed_treatment/') if 'tp5' in n.lower()]\n",
    "plc=pd.DataFrame()\n",
    "\n",
    "for file in files:\n",
    "    tmp = add_result(f'preprocessed_treatment/{file}',code=file.split('_')[1])\n",
    "    tmp.columns = tmp.columns.sort_values()\n",
    "    try:\n",
    "        for df in [tmp, plc]:\n",
    "            df.columns = parser._maybe_dedup_names(df.columns) \n",
    "        plc= plc.append(tmp)\n",
    "    except Exception as e:\n",
    "        print(e)\n",
    "    \n",
    "plc.to_excel('posttreatment_SCL_TP5.xlsx')"
   ]
  }
 ],
 "metadata": {
  "kernelspec": {
   "display_name": "Python 3",
   "language": "python",
   "name": "python3"
  },
  "language_info": {
   "codemirror_mode": {
    "name": "ipython",
    "version": 3
   },
   "file_extension": ".py",
   "mimetype": "text/x-python",
   "name": "python",
   "nbconvert_exporter": "python",
   "pygments_lexer": "ipython3",
   "version": "3.7.4"
  }
 },
 "nbformat": 4,
 "nbformat_minor": 2
}
