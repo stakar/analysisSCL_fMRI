{
 "cells": [
  {
   "cell_type": "markdown",
   "metadata": {},
   "source": [
    "# Working notebook read acqknowledge\n",
    "\n",
    "In this notebook I am workingo on functions to read acknowledge files and generate stimlist from digital channels. Aim is to create analogical files to ones from brainvision.\n"
   ]
  },
  {
   "cell_type": "code",
   "execution_count": 62,
   "metadata": {},
   "outputs": [],
   "source": [
    "import bioread\n",
    "import mne\n",
    "import numpy as np\n",
    "from pandas import DataFrame\n",
    "\n",
    "def code_generator(n,firstLetter = 'S'):\n",
    "    return '{}{: 3d}'.format(firstLetter,n)"
   ]
  },
  {
   "cell_type": "code",
   "execution_count": 57,
   "metadata": {},
   "outputs": [],
   "source": [
    "def create_stimlist_file_from_data(filename):\n",
    "    data = bioread.read_file(filename)\n",
    "    x = lambda a : a>0\n",
    "    result = []\n",
    "    print('creating stimlist...')\n",
    "    for idx in range(2,len(data.channels[0].data)):\n",
    "        uno = [str(int(x(n.data[idx]))) for n in list(reversed(data.channels[1:]))]\n",
    "        duo = [str(int(x(n.data[idx-1]))) for n in list(reversed(data.channels[1:]))]\n",
    "        uno = int(''.join(uno),2)\n",
    "        duo = int(''.join(duo),2)\n",
    "        if (uno>1 and duo<1):\n",
    "            code = code_generator(uno,'S')\n",
    "            result.append((code,idx))\n",
    "    print('done!')\n",
    "    return result"
   ]
  },
  {
   "cell_type": "code",
   "execution_count": 52,
   "metadata": {},
   "outputs": [],
   "source": [
    "def convert_acq_mne(filename='analiza_follow up\\JM22a_B140_TP6_evt.acq'):\n",
    "    data = bioread.read_file(filename)\n",
    "    n_channels = len(data.channels)\n",
    "    sampling_freq = int(data.channels[0].samples_per_second)  # in Hertz\n",
    "    channel_names = [n.name for n in data.channels]\n",
    "\n",
    "    times = int(data.channels[0].samples_per_second)\n",
    "    data = np.array([n.data for n in data.channels])\n",
    "    info = mne.create_info(\n",
    "        ch_names=channel_names, ch_types=['misc']*n_channels, sfreq=sampling_freq\n",
    "    )\n",
    "    print(info)    \n",
    "    raw = mne.io.RawArray(data, info)\n",
    "    return raw"
   ]
  },
  {
   "cell_type": "code",
   "execution_count": 68,
   "metadata": {
    "scrolled": false
   },
   "outputs": [
    {
     "name": "stdout",
     "output_type": "stream",
     "text": [
      "<Info | 7 non-empty values\n",
      " bads: []\n",
      " ch_names: EDA100C-MRI, Digital (STP Input 0), Digital (STP Input 1), ...\n",
      " chs: 9 misc\n",
      " custom_ref_applied: False\n",
      " highpass: 0.0 Hz\n",
      " lowpass: 1000.0 Hz\n",
      " meas_date: unspecified\n",
      " nchan: 9\n",
      " projs: []\n",
      " sfreq: 2000.0 Hz\n",
      ">\n",
      "Creating RawArray with float64 data, n_channels=9, n_times=4072563\n",
      "    Range : 0 ... 4072562 =      0.000 ...  2036.281 secs\n",
      "Ready.\n",
      "creating stimlist...\n",
      "done!\n"
     ]
    }
   ],
   "source": [
    "raw = convert_acq_mne('analiza_follow up\\JM22A_B004_TP6.acq')\n",
    "stimlist = create_stimlist_file_from_data('analiza_follow up\\JM22A_B004_TP6.acq')\n",
    "\n",
    "DataFrame(stimlist).to_excel('JM22A_B004_TP6_eventlist.xlsx')"
   ]
  },
  {
   "cell_type": "code",
   "execution_count": 69,
   "metadata": {},
   "outputs": [
    {
     "data": {
      "text/html": [
       "<table class=\"table table-hover table-striped table-sm table-responsive small\">\n",
       "    <tr>\n",
       "        <th>Measurement date</th>\n",
       "        \n",
       "        <td>Unknown</td>\n",
       "        \n",
       "    </tr>\n",
       "    <tr>\n",
       "        <th>Experimenter</th>\n",
       "        \n",
       "        <td>Unknown</td>\n",
       "        \n",
       "    </tr>\n",
       "        <th>Participant</th>\n",
       "        \n",
       "        <td>Unknown</td>\n",
       "        \n",
       "    </tr>\n",
       "    <tr>\n",
       "        <th>Digitized points</th>\n",
       "        \n",
       "        <td>Not available</td>\n",
       "        \n",
       "    </tr>\n",
       "    <tr>\n",
       "        <th>Good channels</th>\n",
       "        <td>9 misc</td>\n",
       "    </tr>\n",
       "    <tr>\n",
       "        <th>Bad channels</th>\n",
       "        <td>None</td>\n",
       "    </tr>\n",
       "    <tr>\n",
       "        <th>EOG channels</th>\n",
       "        <td>Not available</td>\n",
       "    </tr>\n",
       "    <tr>\n",
       "        <th>ECG channels</th>\n",
       "        <td>Not available</td>\n",
       "    \n",
       "    <tr>\n",
       "        <th>Sampling frequency</th>\n",
       "        <td>2000.00 Hz</td>\n",
       "    </tr>\n",
       "    \n",
       "    \n",
       "    <tr>\n",
       "        <th>Highpass</th>\n",
       "        <td>0.00 Hz</td>\n",
       "    </tr>\n",
       "    \n",
       "    \n",
       "    <tr>\n",
       "        <th>Lowpass</th>\n",
       "        <td>1000.00 Hz</td>\n",
       "    </tr>\n",
       "    \n",
       "    \n",
       "    \n",
       "    <tr>\n",
       "        <th>Duration</th>\n",
       "        <td>00:33:57 (HH:MM:SS)</td>\n",
       "    </tr>\n",
       "</table>"
      ],
      "text/plain": [
       "<RawArray | 9 x 4072563 (2036.3 s), ~279.7 MB, data loaded>"
      ]
     },
     "execution_count": 69,
     "metadata": {},
     "output_type": "execute_result"
    }
   ],
   "source": [
    "raw"
   ]
  },
  {
   "cell_type": "code",
   "execution_count": null,
   "metadata": {},
   "outputs": [],
   "source": []
  }
 ],
 "metadata": {
  "kernelspec": {
   "display_name": "Python 3",
   "language": "python",
   "name": "python3"
  },
  "language_info": {
   "codemirror_mode": {
    "name": "ipython",
    "version": 3
   },
   "file_extension": ".py",
   "mimetype": "text/x-python",
   "name": "python",
   "nbconvert_exporter": "python",
   "pygments_lexer": "ipython3",
   "version": "3.8.8"
  }
 },
 "nbformat": 4,
 "nbformat_minor": 2
}
